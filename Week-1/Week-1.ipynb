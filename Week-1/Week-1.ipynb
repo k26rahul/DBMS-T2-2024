{
 "cells": [
  {
   "cell_type": "markdown",
   "metadata": {},
   "source": [
    "### Procedural vs Declarative\n",
    "\n",
    "#### Procedural\n",
    "- **How to do.**\n",
    "- Detailed steps, instructions\n",
    "- Control flow (loops, conditionals)\n",
    "- Python scripts\n",
    "\n",
    "#### Declarative\n",
    "- **What to do.**\n",
    "- Desired outcome, not steps\n",
    "- High-level operations\n",
    "- SQL queries\n",
    "\n",
    "#### Key Differences\n",
    "- **Focus**:\n",
    "  - *Procedural - process*\n",
    "  - *Declarative - result*\n",
    "- **Complexity**:\n",
    "  - *Procedural: more detailed, more code*\n",
    "  - *Declarative: more abstract, less code*\n",
    "\n",
    "#### Examples\n",
    "- **Procedural**: Adding a student to CSV\n",
    "  ```python\n",
    "  add_student('21', 'New Student', 'M', '2003-05-01', 'new.student@example.com', '303456789012')\n",
    "  ```\n",
    "- **Declarative**: Adding a student in SQL\n",
    "  ```sql\n",
    "  INSERT INTO students (RollNumber, Name, Gender, DateOfBirth, Email, Aadhar) VALUES (21, 'New Student', 'M', '2003-05-01', 'new.student@example.com', '303456789012');\n",
    "  ```"
   ]
  },
  {
   "cell_type": "markdown",
   "metadata": {},
   "source": [
    "### Drawbacks of Using File Systems to Store Data\n",
    "\n",
    "- **Data Redundancy and Inconsistency**\n",
    "  - *Duplicate data in multiple files, inconsistent information*\n",
    "\n",
    "- **Difficulty in Accessing Data**\n",
    "  - *Requires new programs for each task*\n",
    "\n",
    "- **Data Isolation**\n",
    "  - *Data spread across multiple files and formats*\n",
    "\n",
    "- **Integrity Problems**\n",
    "  - *Constraints hidden in code, hard to manage*\n",
    "  - *Example: Ensuring account balance > 0*\n",
    "\n",
    "- **Atomicity of Updates**\n",
    "  - *Partial updates during failures lead to inconsistencies*\n",
    "  - *Example: Funds transfer should fully complete or not happen*\n",
    "\n",
    "- **Concurrent Access Issues**\n",
    "  - *Multiple users need access for performance*\n",
    "  - *Uncontrolled access causes inconsistencies*\n",
    "  - *Example: Two users withdrawing from the same account simultaneously*\n",
    "\n",
    "- **Security Problems**\n",
    "  - *Difficult to restrict user access to specific data*"
   ]
  },
  {
   "cell_type": "markdown",
   "metadata": {},
   "source": [
    "### Data Management Overview\n",
    "\n",
    "**Physical Data Management (Bookkeeping)**\n",
    "- _**Durability**: Prone to physical damage (rodents, humidity)_\n",
    "- _**Scalability**: Difficult to maintain over time with multiple registers_\n",
    "- _**Security**: Susceptible to tampering_\n",
    "- _**Retrieval**: Time-consuming to find previous entries_\n",
    "- _**Consistency**: Vulnerable to human errors_\n",
    "\n",
    "**Electronic Data Management (Spreadsheets)**\n",
    "- _**Durability**: Less prone to physical damage_\n",
    "- _**Scalability**: Easier to search, insert, and modify records_\n",
    "- _**Security**: Can be password protected_\n",
    "- _**Usability**: Reduces manual effort in computations_\n",
    "\n",
    "**Challenges with File Systems**\n",
    "- _**Efficiency Issues**: Slow with growing data_\n",
    "- _**Limitations**: Spreadsheet row limits_\n",
    "- _**Data Consistency**: Challenges with concurrent processing_\n",
    "- _**Access Control**: Difficult to manage permissions centrally_\n",
    "- _**Risk**: System crashes can cause data loss_"
   ]
  },
  {
   "cell_type": "markdown",
   "metadata": {},
   "source": [
    "### History of Database Systems\n",
    "\n",
    "**1950s and early 1960s**\n",
    "- *Data processing with magnetic tapes*\n",
    "- *Sequential access only*\n",
    "- ***Punched cards for input***\n",
    "\n",
    "**Late 1960s and 1970s**\n",
    "- ***Hard disks allow direct data access***\n",
    "- *Network and hierarchical data models prevalent*\n",
    "- ***Ted Codd defines relational data model***\n",
    "- *IBM Research begins System R prototype*\n",
    "- *UC Berkeley starts Ingres prototype*\n",
    "- ***High-performance transaction processing***\n",
    "\n",
    "**1980s**\n",
    "- *Research prototypes evolve into commercial systems*\n",
    "- ***SQL standardization***\n",
    "- ***Parallel and distributed databases***\n",
    "- *Object-oriented database systems*\n",
    "\n",
    "**1990s**\n",
    "- *Large decision support and data mining*\n",
    "- ***Multi-terabyte data warehouses***\n",
    "- *Rise of Web commerce*\n",
    "\n",
    "**Later 2000s**\n",
    "- *Giant data storage systems emerge*"
   ]
  },
  {
   "cell_type": "markdown",
   "metadata": {},
   "source": [
    "### Comparison: File Handling via Python vs DBMS\n",
    "\n",
    "**Scalability (Data Amount)**\n",
    "- *Py: Difficult for insert, update, query; DBMS: Built-in scalability for large data.*\n",
    "\n",
    "**Scalability (Structure Changes)**\n",
    "- *Py: Hard to alter record structure; DBMS: Easy attribute changes with SQL.*\n",
    "\n",
    "**Execution Time**\n",
    "- *Py: Seconds; DBMS: Milliseconds.*\n",
    "\n",
    "**Persistence**\n",
    "- *Py: Manual updates to files; DBMS: Automatic data persistence.*\n",
    "\n",
    "**Robustness**\n",
    "- *Py: Manual data robustness; DBMS: Automated backup and recovery.*\n",
    "\n",
    "**Security**\n",
    "- *Py: Complex OS security; DBMS: Database-level access control.*\n",
    "\n",
    "**Productivity**\n",
    "- *Py: Coding-intensive for data management; DBMS: Streamlined with standard queries.*\n",
    "\n",
    "**Arithmetic Operations**\n",
    "- *Py: Supports arithmetic; DBMS: Limited arithmetic capabilities.*\n",
    "\n",
    "**Costs**\n",
    "- *Py: Low hardware, software costs; DBMS: High investment needed.*"
   ]
  },
  {
   "cell_type": "markdown",
   "metadata": {},
   "source": [
    "### Comparison (Detailed)\n",
    "\n",
    "**Scalability**\n",
    "- *Py: Efficiency decreases as records increase due to search time and OS limitations.*\n",
    "- *DBMS: Efficiently scales with built-in indexing for quick data access.*\n",
    "\n",
    "**Structural Change**\n",
    "- *Py: Adding/removing attributes requires manual handling per record.*\n",
    "- *DBMS: Supports adding attributes with default values and constraints for safe removal.*\n",
    "\n",
    "**Time and Efficiency**\n",
    "- *Py: Quick for small datasets; slower than DBMS for large datasets. 1GB file: a few seconds.*\n",
    "- *DBMS: Fast, even for large datasets due to optimized SQL queries. 1GB file: a few milliseconds.*\n",
    "\n",
    "**Programmer's Productivity**\n",
    "- *Py: Manual enforcement of data constraints; requires extensive maintenance.*\n",
    "- *DBMS: Built-in mechanisms ensure data consistency and integrity, reducing programmer effort.*\n",
    "\n",
    "**Arithmetic Operations**\n",
    "- *Py: Extensive support for arithmetic and logical operations.*\n",
    "- *DBMS: Limited support; complex computations must be done externally to SQL.*\n",
    "\n",
    "**Costs and Complexity**\n",
    "- *Py: Low-cost setup and maintenance; minimal specialized resources.*\n",
    "- *DBMS: High initial and ongoing costs; requires dedicated hardware, software, and DBAs.*"
   ]
  },
  {
   "cell_type": "markdown",
   "metadata": {},
   "source": [
    "### Levels of Abstraction\n",
    "\n",
    "**Physical Level**\n",
    "- *Describes how records are stored physically on a storage device*\n",
    "\n",
    "**Logical Level**\n",
    "- *Defines data stored in database and relationships among data fields*\n",
    "\n",
    "**View Level**\n",
    "- *Application programs hide data type details*\n",
    "- *Views can hide sensitive information (e.g., employee salary) for security*"
   ]
  },
  {
   "cell_type": "markdown",
   "metadata": {},
   "source": [
    "### Schema and Instances\n",
    "\n",
    "- _**Schema**: Defines the structure and organization of data._\n",
    "- _**Instance**: Represents the actual data values stored in the database at a specific point in time._"
   ]
  },
  {
   "cell_type": "markdown",
   "metadata": {},
   "source": [
    "### Physical Data Independence\n",
    "\n",
    "- _**Definition**: Ability to modify the physical schema without altering the logical schema._\n",
    "- _**Implication**: Applications rely on the logical schema for data access and operations, regardless of changes in how data is physically stored._"
   ]
  },
  {
   "cell_type": "markdown",
   "metadata": {},
   "source": [
    "### Data Models\n",
    "\n",
    "- _**Describing**:_\n",
    "  - *Data*\n",
    "  - *Data relationships*\n",
    "  - *Data semantics*\n",
    "  - *Data constraints*\n",
    "  \n",
    "- _**Relational Model**: Organizes data into tables (relations) consisting of rows (tuples) and columns (attributes), linked by keys._\n",
    "- _**Entity-Relationship Data Model**: Visualizes entities (objects) and their relationships in databases, aiding in database design._\n",
    "- _**Object-Based Data Models**: Extend relational models to include object-oriented features, supporting complex data types and inheritance._\n",
    "\n",
    "#### Other Older Models\n",
    "\n",
    "- _**Network Model**: Organizes data in a graph-like structure with nodes representing records and edges defining relationships._\n",
    "- _**Hierarchical Model**: Structures data in a tree-like format, where each record has a single parent record and multiple child records._"
   ]
  },
  {
   "cell_type": "markdown",
   "metadata": {},
   "source": [
    "### Data Definition Language (DDL)\n",
    "  - *Defines database schema.*\n",
    "\n",
    "  - *Generates data dictionary.*\n",
    "\n",
    "#### Data Dictionary\n",
    "\n",
    "- *Contains metadata (information about data), including:*\n",
    "  - ***Database schema***\n",
    "    - *Structure and organization of data.*\n",
    "  - ***Integrity constraints***\n",
    "    - *Ensure data accuracy and consistency.*\n",
    "    - *Example: Primary Key (e.g., ID uniquely identifies instructors).*\n",
    "  - ***Authorization information***\n",
    "    - *Controls access to data.*\n",
    "    - *Determines who can access what.*"
   ]
  },
  {
   "cell_type": "markdown",
   "metadata": {},
   "source": [
    "### Data Manipulation Language (DML)\n",
    "\n",
    "- *Language for accessing and manipulating data organized by the data model (query language).*\n",
    "\n",
    "- *Pure*: *Used for proving computational properties and optimization.*\n",
    "  - *Relational Algebra (focus in this course)*\n",
    "  - *Tuple Relational Calculus*\n",
    "  - *Domain Relational Calculus*\n",
    "\n",
    "- *Commercial*: Used in commercial systems.\n",
    "  - *SQL is the most widely used commercial language.*"
   ]
  },
  {
   "cell_type": "markdown",
   "metadata": {},
   "source": [
    "### Database Design\n",
    "\n",
    "- **Logical Design**\n",
    "  - *Defines database schema.*\n",
    "  - *Involves:*\n",
    "    - *Choosing relation schemas.*\n",
    "    - *Deciding attributes distribution.*\n",
    "\n",
    "- **Physical Design**\n",
    "  - *Determines physical layout of database.*"
   ]
  },
  {
   "cell_type": "markdown",
   "metadata": {},
   "source": [
    "### Design Approaches\n",
    "\n",
    "- **Entity Relationship Model**\n",
    "  - *Captures business requirements.*\n",
    "  - *Models enterprise as entities and relationships.*\n",
    "  - *Diagrammatically represented by an entity-relationship diagram.*\n",
    "\n",
    "- **Normalization Theory**\n",
    "  - *Computer Science perspective.*\n",
    "  - *Formalizes and tests designs for inefficiencies.*"
   ]
  },
  {
   "cell_type": "markdown",
   "metadata": {},
   "source": [
    "### Object-Relational Data Models\n",
    "\n",
    "- **Relational Model**\n",
    "  - *Flat, atomic values.*\n",
    "  \n",
    "- **Object-Relational Data Models**\n",
    "  - *Extend relational model with object-oriented features.*\n",
    "  - *Support complex attribute types (e.g., non-atomic values, nested relations).*\n",
    "  - *Preserve relational foundations and declarative data access.*\n",
    "  - *Ensure upward compatibility with existing relational languages.*"
   ]
  },
  {
   "cell_type": "markdown",
   "metadata": {},
   "source": [
    "### XML: eXtensible Markup Language\n",
    "\n",
    "- **Definition**\n",
    "  - *Defined by the World Wide Web Consortium (W3C).*\n",
    "  - *Describes name-value pairs using tags.*\n",
    "\n",
    "- **Original Purpose**\n",
    "  - *Initially a document markup language, not database-focused.*\n",
    "\n",
    "- **Data Exchange**\n",
    "  - *Enables creation of custom tags and structures for data exchange.*\n",
    "  - *Used widely for data interchange formats beyond documents.*\n",
    "\n",
    "- **Tools and Support**\n",
    "  - *Numerous tools for parsing, browsing, and querying XML documents.*\n",
    "\n",
    "#### Demo XML Data of Students\n",
    "\n",
    "```xml\n",
    "<students>\n",
    "  <student>\n",
    "    <RollNumber>1</RollNumber>\n",
    "    <Name>Alice</Name>\n",
    "    <Gender>Female</Gender>\n",
    "    <DateOfBirth>2000-03-15</DateOfBirth>\n",
    "    <Email>alice@example.com</Email>\n",
    "    <Aadhar>123456789012</Aadhar>\n",
    "  </student>\n",
    "  <student>\n",
    "    <RollNumber>2</RollNumber>\n",
    "    <Name>Bob</Name>\n",
    "    <Gender>Male</Gender>\n",
    "    <DateOfBirth>2001-05-20</DateOfBirth>\n",
    "    <Email>bob@example.com</Email>\n",
    "    <Aadhar>234567890123</Aadhar>\n",
    "  </student>\n",
    "  <!-- Add more students as needed -->\n",
    "</students>\n",
    "```"
   ]
  },
  {
   "cell_type": "markdown",
   "metadata": {},
   "source": [
    "### Database Engine Components\n",
    "\n",
    "**1. Storage Manager**\n",
    "- *Interface between low-level data and applications.*\n",
    "- *Interaction with OS file manager.*\n",
    "- *Efficient storage, retrieval, and updates.*\n",
    "- *Tasks:*\n",
    "  - *Storage access.*\n",
    "  - *File organization.*\n",
    "  - *Indexing and hashing.*\n",
    "\n",
    "**2. Query Processing**\n",
    "- *Steps: Parsing, translation, optimization, evaluation.*\n",
    "- *Cost estimation based on statistical information.*\n",
    "\n",
    "**3. Transaction Management**\n",
    "- *Ensures database consistency despite failures.*\n",
    "- *A transaction performs a single logical function.*\n",
    "- *Handles system and transaction failures.*\n",
    "- *Concurrency control manages interactions among concurrent transactions.*\n",
    "\n"
   ]
  },
  {
   "cell_type": "markdown",
   "metadata": {},
   "source": [
    "### Database Architecture\n",
    "\n",
    "**Centralized**\n",
    "- *Single database server.*\n",
    "- *Limited scalability and fault tolerance.*\n",
    "- *Simple setup and management.*\n",
    "\n",
    "**Distributed**\n",
    "- *Data distributed across multiple sites or servers.*\n",
    "- *Improved fault tolerance and scalability.*\n",
    "- *Complex data management and synchronization.*\n",
    "\n",
    "**Cloud**\n",
    "- *Database services provided via cloud infrastructure.*\n",
    "- *Scalable, flexible, and cost-effective.*\n",
    "- *Accessed via internet, offers on-demand resources.*"
   ]
  },
  {
   "cell_type": "markdown",
   "metadata": {},
   "source": [
    "# Activity/Assignment Questions"
   ]
  },
  {
   "cell_type": "markdown",
   "metadata": {},
   "source": [
    "- **Evolution of data management practices:**\n",
    "  \n",
    "  1. *Punched cards for input*\n",
    "  2. *Hard disks for direct access to data*\n",
    "  3. *Parallel and distributed databases*\n",
    "  4. *Data warehousing*\n",
    "\n",
    "- Both **Sybase**, **Informix**, **MySQL** and **PostgreSQL** are client/server RDBMS."
   ]
  },
  {
   "cell_type": "markdown",
   "metadata": {},
   "source": [
    "- **File handling via Python vs DBMS**\n",
    "  - *File handling via Python takes more time compared to DBMS.*\n",
    "  - *DBMS is optimized for insert, update, and querying operations.*\n",
    "\n",
    "- **Ease of handling records**\n",
    "  - *DBMS is easier for insert, update, and querying compared to Python.*\n",
    "\n",
    "- **Arithmetic operations**\n",
    "  - *DBMS has limited support for complex arithmetic operations.*\n",
    "  - *Python is better for extensive arithmetic and logical operations.*"
   ]
  },
  {
   "cell_type": "markdown",
   "metadata": {},
   "source": [
    "- **Preferred Applications for DBMS**\n",
    "  - *Applications with large datasets.*\n",
    "  - *Applications with concurrent transactions.*\n",
    "\n",
    "- **Preferred Applications for File Systems**\n",
    "  - *Applications with small datasets.*\n",
    "  - *Applications with no dedicated database administrators.*"
   ]
  },
  {
   "cell_type": "markdown",
   "metadata": {},
   "source": [
    "- **Schemas in database systems**\n",
    "  - *Describes the overall structure of the database system.*\n",
    "  - *Similar to the type information of a variable in programming languages.*\n",
    "\n",
    "- **Instances in database system**\n",
    "  - *It is the actual content of the database at a particular instant of time.*\n",
    "  - *Similar to the value of a variable in programming languages.*\n"
   ]
  },
  {
   "cell_type": "markdown",
   "metadata": {},
   "source": [
    "- **Levels of Database Abstraction**\n",
    "  - *Physical level: Describes how records are actually stored.*\n",
    "  - *Logical level: Describes data and relationships.*\n",
    "  - *View level: Application programs hide data details.*"
   ]
  },
  {
   "cell_type": "markdown",
   "metadata": {},
   "source": [
    "- **Logical Data Independence**\n",
    "  - *Changes at the logical level of DBMS do not affect the view level.*\n",
    "\n",
    "- **Physical Data Independence**\n",
    "  - *Changes at the physical level do not affect the Logical and View Levels.*"
   ]
  },
  {
   "cell_type": "markdown",
   "metadata": {},
   "source": [
    "- **Programmer Working on Database Data Structures**\n",
    "  - *Working at the Physical Level of abstraction.*"
   ]
  },
  {
   "cell_type": "markdown",
   "metadata": {},
   "source": [
    "- **Defines and manipulates the schema of a database**\n",
    "  - *Data Definition Language (DDL)*\n",
    "\n",
    "- **Creates new records and manipulates existing records in a database**\n",
    "  - *Data Manipulation Language (DML)*\n"
   ]
  },
  {
   "cell_type": "markdown",
   "metadata": {},
   "source": [
    "- **Data Dictionary Content**\n",
    "  - *Database schema*\n",
    "  - *Integrity constraints*\n",
    "  - *Authorizations*\n",
    "\n",
    "- **Modification of Data Dictionary**\n",
    "  - *Only commands from Data Definition Language (DDL) can lead to modifications in the Data Dictionary.*"
   ]
  },
  {
   "cell_type": "markdown",
   "metadata": {},
   "source": [
    "- **Logical Design of a Database**\n",
    "  - *How should a database be structured to fulfill business requirements?*\n",
    "  - *What are the attributes to be recorded in the database?*\n",
    "  - *How the attributes can be distributed among the collection of schemas?*\n",
    "\n",
    "- **Physical Design of a Database**\n",
    "  - *What should be the physical layout of the database?*\n"
   ]
  },
  {
   "cell_type": "markdown",
   "metadata": {},
   "source": [
    "- **Entity Relationship Model (E-R Model)**\n",
    "  - *Associated with a diagrammatic representation known as E-R diagram.*\n",
    "  - *Models a real-world enterprise as collections of entities and relationships.*\n",
    "\n",
    "- **Normalization Theory**\n",
    "  - *Tries to formalize and evaluate a design as good or bad, and tests the quality of design.*\n"
   ]
  },
  {
   "cell_type": "markdown",
   "metadata": {},
   "source": [
    "- **Database Design Models**\n",
    "  - *Entity-Relationship Model is widely used in the planning and designing phase of a database system.*\n",
    "\n",
    "- **Data Model for Dynamic Interconnected Data**\n",
    "  - *Graph Model is suitable for systems maintaining large sets of complex interconnected data with dynamically changing semantics.*"
   ]
  },
  {
   "cell_type": "markdown",
   "metadata": {},
   "source": [
    "- **Object-Relational Data Model**\n",
    "  - *It contains atomic values.*\n",
    "  - *It allows attributes of tuples to have complex data types, including non-atomic values.*\n",
    "  - *It provides upward compatibility with existing relational languages.*"
   ]
  },
  {
   "cell_type": "markdown",
   "metadata": {},
   "source": [
    "- **XML (Extensible Markup Language)**\n",
    "  - *Defined by the WWW Consortium (W3C).*\n",
    "  - *Its ability to specify new tags and create nested tag structures made it versatile for exchanging data, not just documents.*\n",
    "  - *A wide variety of tools are available for parsing, browsing, and querying XML documents/data.*\n"
   ]
  },
  {
   "cell_type": "markdown",
   "metadata": {},
   "source": [
    "- **Concurrency Control Manager**\n",
    "  - *Controls the interaction among concurrent transactions to ensure consistency of the database.*\n",
    "\n",
    "- **Storage Manager**\n",
    "  - *Provides the interface between the low-level data stored in the database and application programs.*\n"
   ]
  },
  {
   "cell_type": "markdown",
   "metadata": {},
   "source": [
    "- **Complex Arithmetic Computation in DBMS**\n",
    "  - *DBMS does NOT provide an efficient platform for doing complex arithmetic computations on the data.*\n",
    "  \n",
    "- **Creating Access Rules**\n",
    "  - *It is NOT easier to create access rules in a file system compared to a DBMS.*"
   ]
  },
  {
   "cell_type": "markdown",
   "metadata": {},
   "source": [
    "- **Data Redundancy**\n",
    "  - *Storing multiple copies of the same data within the system increases data redundancy.*"
   ]
  },
  {
   "cell_type": "markdown",
   "metadata": {},
   "source": [
    "- **Handling Exceptions**\n",
    "  - *try-except blocks in Python are used for handling exceptions.*"
   ]
  }
 ],
 "metadata": {
  "kernelspec": {
   "display_name": "Python 3 (ipykernel)",
   "language": "python",
   "name": "python3"
  },
  "language_info": {
   "codemirror_mode": {
    "name": "ipython",
    "version": 3
   },
   "file_extension": ".py",
   "mimetype": "text/x-python",
   "name": "python",
   "nbconvert_exporter": "python",
   "pygments_lexer": "ipython3",
   "version": "3.12.0"
  }
 },
 "nbformat": 4,
 "nbformat_minor": 4
}
