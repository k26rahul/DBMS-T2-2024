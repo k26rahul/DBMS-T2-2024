{
 "cells": [
  {
   "cell_type": "code",
   "execution_count": 1,
   "metadata": {},
   "outputs": [],
   "source": [
    "import xml.etree.ElementTree as ET\n",
    "\n",
    "XML_FILE = './Data/students.xml'"
   ]
  },
  {
   "cell_type": "code",
   "execution_count": 2,
   "metadata": {},
   "outputs": [],
   "source": [
    "def read_students():\n",
    "  tree = ET.parse(XML_FILE)\n",
    "  root = tree.getroot()\n",
    "  students = []\n",
    "  for student in root.findall('student'):\n",
    "    students.append({\n",
    "        'RollNumber': student.find('RollNumber').text,\n",
    "        'Name': student.find('Name').text,\n",
    "        'Gender': student.find('Gender').text,\n",
    "        'DateOfBirth': student.find('DateOfBirth').text,\n",
    "        'Email': student.find('Email').text,\n",
    "        'Aadhar': student.find('Aadhar').text\n",
    "    })\n",
    "  return students\n",
    "\n",
    "\n",
    "def write_students(students):\n",
    "  root = ET.Element(\"students\")\n",
    "  for student in students:\n",
    "    student_elem = ET.SubElement(root, \"student\")\n",
    "    ET.SubElement(student_elem, \"RollNumber\").text = student['RollNumber']\n",
    "    ET.SubElement(student_elem, \"Name\").text = student['Name']\n",
    "    ET.SubElement(student_elem, \"Gender\").text = student['Gender']\n",
    "    ET.SubElement(student_elem, \"DateOfBirth\").text = student['DateOfBirth']\n",
    "    ET.SubElement(student_elem, \"Email\").text = student['Email']\n",
    "    ET.SubElement(student_elem, \"Aadhar\").text = student['Aadhar']\n",
    "  tree = ET.ElementTree(root)\n",
    "  tree.write(XML_FILE, encoding='utf-8', xml_declaration=True)\n",
    "\n",
    "\n",
    "def print_students():\n",
    "  students = read_students()\n",
    "  for student in students:\n",
    "    print(f\"Roll Number: {student['RollNumber']}, \"\n",
    "          f\"Name: {student['Name']}, \"\n",
    "          f\"Gender: {student['Gender']}, \"\n",
    "          f\"Date of Birth: {student['DateOfBirth']}, \"\n",
    "          f\"Email: {student['Email']}, \"\n",
    "          f\"Aadhar: {student['Aadhar']}\")"
   ]
  },
  {
   "cell_type": "code",
   "execution_count": 3,
   "metadata": {},
   "outputs": [
    {
     "name": "stdout",
     "output_type": "stream",
     "text": [
      "Roll Number: 1, Name: John Doe, Gender: M, Date of Birth: 2000-01-15, Email: john.doe@example.com, Aadhar: 123456789012\n",
      "Roll Number: 2, Name: Jane Smith, Gender: F, Date of Birth: 2001-02-18, Email: jane.smith@example.com, Aadhar: 909876543210\n",
      "Roll Number: 3, Name: Jim Brown, Gender: M, Date of Birth: 1999-05-22, Email: jim.brown@example.com, Aadhar: 345678901234\n",
      "Roll Number: 4, Name: Jessica Jones, Gender: F, Date of Birth: 2000-07-13, Email: jessica.jones@example.com, Aadhar: 456789012345\n",
      "Roll Number: 5, Name: Jack White, Gender: M, Date of Birth: 1998-11-23, Email: jack.white@example.com, Aadhar: 567890123456\n",
      "Roll Number: 6, Name: Jennifer Black, Gender: F, Date of Birth: 2001-03-30, Email: jennifer.black@example.com, Aadhar: 678901234567\n",
      "Roll Number: 7, Name: Jacob Green, Gender: M, Date of Birth: 2002-06-01, Email: jacob.green@example.com, Aadhar: 789012345678\n",
      "Roll Number: 8, Name: Julia Blue, Gender: F, Date of Birth: 2000-12-12, Email: julia.blue@example.com, Aadhar: 890123456789\n",
      "Roll Number: 9, Name: James Yellow, Gender: M, Date of Birth: 1999-04-19, Email: james.yellow@example.com, Aadhar: 901234567890\n",
      "Roll Number: 10, Name: Joan Purple, Gender: F, Date of Birth: 2001-05-25, Email: joan.purple@example.com, Aadhar: 112345678901\n",
      "Roll Number: 11, Name: Jeremy Red, Gender: M, Date of Birth: 2002-07-14, Email: jeremy.red@example.com, Aadhar: 223456789012\n",
      "Roll Number: 12, Name: Jill Orange, Gender: F, Date of Birth: 1998-10-30, Email: jill.orange@example.com, Aadhar: 334567890123\n",
      "Roll Number: 13, Name: Jasper Pink, Gender: M, Date of Birth: 1999-08-09, Email: jasper.pink@example.com, Aadhar: 445678901234\n",
      "Roll Number: 14, Name: Janet Gray, Gender: F, Date of Birth: 2000-09-03, Email: janet.gray@example.com, Aadhar: 556789012345\n",
      "Roll Number: 16, Name: Josie White, Gender: F, Date of Birth: 2002-02-20, Email: josie.white@example.com, Aadhar: 778901234567\n",
      "Roll Number: 17, Name: Jason Black, Gender: M, Date of Birth: 2000-03-15, Email: jason.black@example.com, Aadhar: 889012345678\n",
      "Roll Number: 18, Name: Julie Green, Gender: F, Date of Birth: 1999-06-24, Email: julie.green@example.com, Aadhar: 990123456789\n",
      "Roll Number: 19, Name: Jeff Blue, Gender: M, Date of Birth: 1998-12-11, Email: jeff.blue@example.com, Aadhar: 101234567890\n",
      "Roll Number: 20, Name: June Yellow, Gender: F, Date of Birth: 2001-04-22, Email: june.yellow@example.com, Aadhar: 202345678901\n",
      "Roll Number: 21, Name: New Student, Gender: M, Date of Birth: 2003-05-01, Email: new.student@example.com, Aadhar: 303456789012\n",
      "Roll Number: 21, Name: New Student, Gender: M, Date of Birth: 2003-05-01, Email: new.student@example.com, Aadhar: 303456789012\n"
     ]
    }
   ],
   "source": [
    "print_students()"
   ]
  },
  {
   "cell_type": "code",
   "execution_count": 4,
   "metadata": {},
   "outputs": [],
   "source": [
    "def add_student(roll_number, name, gender, dob, email, aadhar):\n",
    "  students = read_students()\n",
    "  new_student = {\n",
    "      'RollNumber': roll_number,\n",
    "      'Name': name,\n",
    "      'Gender': gender,\n",
    "      'DateOfBirth': dob,\n",
    "      'Email': email,\n",
    "      'Aadhar': aadhar\n",
    "  }\n",
    "  students.append(new_student)\n",
    "  write_students(students)"
   ]
  },
  {
   "cell_type": "code",
   "execution_count": 5,
   "metadata": {},
   "outputs": [],
   "source": [
    "def remove_student(roll_number):\n",
    "  students = read_students()\n",
    "  students = [student for student in students if student['RollNumber'] != roll_number]\n",
    "  write_students(students)"
   ]
  },
  {
   "cell_type": "code",
   "execution_count": 6,
   "metadata": {},
   "outputs": [],
   "source": [
    "def update_student(roll_number, name=None, gender=None, dob=None, email=None, aadhar=None):\n",
    "  students = read_students()\n",
    "  for student in students:\n",
    "    if student['RollNumber'] == roll_number:\n",
    "      if name is not None:\n",
    "        student['Name'] = name\n",
    "      if gender is not None:\n",
    "        student['Gender'] = gender\n",
    "      if dob is not None:\n",
    "        student['DateOfBirth'] = dob\n",
    "      if email is not None:\n",
    "        student['Email'] = email\n",
    "      if aadhar is not None:\n",
    "        student['Aadhar'] = aadhar\n",
    "  write_students(students)"
   ]
  },
  {
   "cell_type": "code",
   "execution_count": 7,
   "metadata": {},
   "outputs": [
    {
     "name": "stdout",
     "output_type": "stream",
     "text": [
      "Initial students:\n",
      "Roll Number: 1, Name: John Doe, Gender: M, Date of Birth: 2000-01-15, Email: john.doe@example.com, Aadhar: 123456789012\n",
      "Roll Number: 2, Name: Jane Smith, Gender: F, Date of Birth: 2001-02-18, Email: jane.smith@example.com, Aadhar: 909876543210\n",
      "Roll Number: 3, Name: Jim Brown, Gender: M, Date of Birth: 1999-05-22, Email: jim.brown@example.com, Aadhar: 345678901234\n",
      "Roll Number: 4, Name: Jessica Jones, Gender: F, Date of Birth: 2000-07-13, Email: jessica.jones@example.com, Aadhar: 456789012345\n",
      "Roll Number: 5, Name: Jack White, Gender: M, Date of Birth: 1998-11-23, Email: jack.white@example.com, Aadhar: 567890123456\n",
      "Roll Number: 6, Name: Jennifer Black, Gender: F, Date of Birth: 2001-03-30, Email: jennifer.black@example.com, Aadhar: 678901234567\n",
      "Roll Number: 7, Name: Jacob Green, Gender: M, Date of Birth: 2002-06-01, Email: jacob.green@example.com, Aadhar: 789012345678\n",
      "Roll Number: 8, Name: Julia Blue, Gender: F, Date of Birth: 2000-12-12, Email: julia.blue@example.com, Aadhar: 890123456789\n",
      "Roll Number: 9, Name: James Yellow, Gender: M, Date of Birth: 1999-04-19, Email: james.yellow@example.com, Aadhar: 901234567890\n",
      "Roll Number: 10, Name: Joan Purple, Gender: F, Date of Birth: 2001-05-25, Email: joan.purple@example.com, Aadhar: 112345678901\n",
      "Roll Number: 11, Name: Jeremy Red, Gender: M, Date of Birth: 2002-07-14, Email: jeremy.red@example.com, Aadhar: 223456789012\n",
      "Roll Number: 12, Name: Jill Orange, Gender: F, Date of Birth: 1998-10-30, Email: jill.orange@example.com, Aadhar: 334567890123\n",
      "Roll Number: 13, Name: Jasper Pink, Gender: M, Date of Birth: 1999-08-09, Email: jasper.pink@example.com, Aadhar: 445678901234\n",
      "Roll Number: 14, Name: Janet Gray, Gender: F, Date of Birth: 2000-09-03, Email: janet.gray@example.com, Aadhar: 556789012345\n",
      "Roll Number: 16, Name: Josie White, Gender: F, Date of Birth: 2002-02-20, Email: josie.white@example.com, Aadhar: 778901234567\n",
      "Roll Number: 17, Name: Jason Black, Gender: M, Date of Birth: 2000-03-15, Email: jason.black@example.com, Aadhar: 889012345678\n",
      "Roll Number: 18, Name: Julie Green, Gender: F, Date of Birth: 1999-06-24, Email: julie.green@example.com, Aadhar: 990123456789\n",
      "Roll Number: 19, Name: Jeff Blue, Gender: M, Date of Birth: 1998-12-11, Email: jeff.blue@example.com, Aadhar: 101234567890\n",
      "Roll Number: 20, Name: June Yellow, Gender: F, Date of Birth: 2001-04-22, Email: june.yellow@example.com, Aadhar: 202345678901\n",
      "Roll Number: 21, Name: New Student, Gender: M, Date of Birth: 2003-05-01, Email: new.student@example.com, Aadhar: 303456789012\n",
      "Roll Number: 21, Name: New Student, Gender: M, Date of Birth: 2003-05-01, Email: new.student@example.com, Aadhar: 303456789012\n"
     ]
    }
   ],
   "source": [
    "print(\"Initial students:\")\n",
    "print_students()"
   ]
  },
  {
   "cell_type": "code",
   "execution_count": 8,
   "metadata": {},
   "outputs": [
    {
     "name": "stdout",
     "output_type": "stream",
     "text": [
      "\n",
      "Adding a new student:\n",
      "Roll Number: 1, Name: John Doe, Gender: M, Date of Birth: 2000-01-15, Email: john.doe@example.com, Aadhar: 123456789012\n",
      "Roll Number: 2, Name: Jane Smith, Gender: F, Date of Birth: 2001-02-18, Email: jane.smith@example.com, Aadhar: 909876543210\n",
      "Roll Number: 3, Name: Jim Brown, Gender: M, Date of Birth: 1999-05-22, Email: jim.brown@example.com, Aadhar: 345678901234\n",
      "Roll Number: 4, Name: Jessica Jones, Gender: F, Date of Birth: 2000-07-13, Email: jessica.jones@example.com, Aadhar: 456789012345\n",
      "Roll Number: 5, Name: Jack White, Gender: M, Date of Birth: 1998-11-23, Email: jack.white@example.com, Aadhar: 567890123456\n",
      "Roll Number: 6, Name: Jennifer Black, Gender: F, Date of Birth: 2001-03-30, Email: jennifer.black@example.com, Aadhar: 678901234567\n",
      "Roll Number: 7, Name: Jacob Green, Gender: M, Date of Birth: 2002-06-01, Email: jacob.green@example.com, Aadhar: 789012345678\n",
      "Roll Number: 8, Name: Julia Blue, Gender: F, Date of Birth: 2000-12-12, Email: julia.blue@example.com, Aadhar: 890123456789\n",
      "Roll Number: 9, Name: James Yellow, Gender: M, Date of Birth: 1999-04-19, Email: james.yellow@example.com, Aadhar: 901234567890\n",
      "Roll Number: 10, Name: Joan Purple, Gender: F, Date of Birth: 2001-05-25, Email: joan.purple@example.com, Aadhar: 112345678901\n",
      "Roll Number: 11, Name: Jeremy Red, Gender: M, Date of Birth: 2002-07-14, Email: jeremy.red@example.com, Aadhar: 223456789012\n",
      "Roll Number: 12, Name: Jill Orange, Gender: F, Date of Birth: 1998-10-30, Email: jill.orange@example.com, Aadhar: 334567890123\n",
      "Roll Number: 13, Name: Jasper Pink, Gender: M, Date of Birth: 1999-08-09, Email: jasper.pink@example.com, Aadhar: 445678901234\n",
      "Roll Number: 14, Name: Janet Gray, Gender: F, Date of Birth: 2000-09-03, Email: janet.gray@example.com, Aadhar: 556789012345\n",
      "Roll Number: 16, Name: Josie White, Gender: F, Date of Birth: 2002-02-20, Email: josie.white@example.com, Aadhar: 778901234567\n",
      "Roll Number: 17, Name: Jason Black, Gender: M, Date of Birth: 2000-03-15, Email: jason.black@example.com, Aadhar: 889012345678\n",
      "Roll Number: 18, Name: Julie Green, Gender: F, Date of Birth: 1999-06-24, Email: julie.green@example.com, Aadhar: 990123456789\n",
      "Roll Number: 19, Name: Jeff Blue, Gender: M, Date of Birth: 1998-12-11, Email: jeff.blue@example.com, Aadhar: 101234567890\n",
      "Roll Number: 20, Name: June Yellow, Gender: F, Date of Birth: 2001-04-22, Email: june.yellow@example.com, Aadhar: 202345678901\n",
      "Roll Number: 21, Name: New Student, Gender: M, Date of Birth: 2003-05-01, Email: new.student@example.com, Aadhar: 303456789012\n",
      "Roll Number: 21, Name: New Student, Gender: M, Date of Birth: 2003-05-01, Email: new.student@example.com, Aadhar: 303456789012\n",
      "Roll Number: 21, Name: New Student, Gender: M, Date of Birth: 2003-05-01, Email: new.student@example.com, Aadhar: 303456789012\n"
     ]
    }
   ],
   "source": [
    "print(\"\\nAdding a new student:\")\n",
    "add_student('21', 'New Student', 'M', '2003-05-01', 'new.student@example.com', '303456789012')\n",
    "print_students()"
   ]
  },
  {
   "cell_type": "code",
   "execution_count": 9,
   "metadata": {},
   "outputs": [
    {
     "name": "stdout",
     "output_type": "stream",
     "text": [
      "\n",
      "Removing a student with RollNumber 15:\n",
      "Roll Number: 1, Name: John Doe, Gender: M, Date of Birth: 2000-01-15, Email: john.doe@example.com, Aadhar: 123456789012\n",
      "Roll Number: 2, Name: Jane Smith, Gender: F, Date of Birth: 2001-02-18, Email: jane.smith@example.com, Aadhar: 909876543210\n",
      "Roll Number: 3, Name: Jim Brown, Gender: M, Date of Birth: 1999-05-22, Email: jim.brown@example.com, Aadhar: 345678901234\n",
      "Roll Number: 4, Name: Jessica Jones, Gender: F, Date of Birth: 2000-07-13, Email: jessica.jones@example.com, Aadhar: 456789012345\n",
      "Roll Number: 5, Name: Jack White, Gender: M, Date of Birth: 1998-11-23, Email: jack.white@example.com, Aadhar: 567890123456\n",
      "Roll Number: 6, Name: Jennifer Black, Gender: F, Date of Birth: 2001-03-30, Email: jennifer.black@example.com, Aadhar: 678901234567\n",
      "Roll Number: 7, Name: Jacob Green, Gender: M, Date of Birth: 2002-06-01, Email: jacob.green@example.com, Aadhar: 789012345678\n",
      "Roll Number: 8, Name: Julia Blue, Gender: F, Date of Birth: 2000-12-12, Email: julia.blue@example.com, Aadhar: 890123456789\n",
      "Roll Number: 9, Name: James Yellow, Gender: M, Date of Birth: 1999-04-19, Email: james.yellow@example.com, Aadhar: 901234567890\n",
      "Roll Number: 10, Name: Joan Purple, Gender: F, Date of Birth: 2001-05-25, Email: joan.purple@example.com, Aadhar: 112345678901\n",
      "Roll Number: 11, Name: Jeremy Red, Gender: M, Date of Birth: 2002-07-14, Email: jeremy.red@example.com, Aadhar: 223456789012\n",
      "Roll Number: 12, Name: Jill Orange, Gender: F, Date of Birth: 1998-10-30, Email: jill.orange@example.com, Aadhar: 334567890123\n",
      "Roll Number: 13, Name: Jasper Pink, Gender: M, Date of Birth: 1999-08-09, Email: jasper.pink@example.com, Aadhar: 445678901234\n",
      "Roll Number: 14, Name: Janet Gray, Gender: F, Date of Birth: 2000-09-03, Email: janet.gray@example.com, Aadhar: 556789012345\n",
      "Roll Number: 16, Name: Josie White, Gender: F, Date of Birth: 2002-02-20, Email: josie.white@example.com, Aadhar: 778901234567\n",
      "Roll Number: 17, Name: Jason Black, Gender: M, Date of Birth: 2000-03-15, Email: jason.black@example.com, Aadhar: 889012345678\n",
      "Roll Number: 18, Name: Julie Green, Gender: F, Date of Birth: 1999-06-24, Email: julie.green@example.com, Aadhar: 990123456789\n",
      "Roll Number: 19, Name: Jeff Blue, Gender: M, Date of Birth: 1998-12-11, Email: jeff.blue@example.com, Aadhar: 101234567890\n",
      "Roll Number: 20, Name: June Yellow, Gender: F, Date of Birth: 2001-04-22, Email: june.yellow@example.com, Aadhar: 202345678901\n",
      "Roll Number: 21, Name: New Student, Gender: M, Date of Birth: 2003-05-01, Email: new.student@example.com, Aadhar: 303456789012\n",
      "Roll Number: 21, Name: New Student, Gender: M, Date of Birth: 2003-05-01, Email: new.student@example.com, Aadhar: 303456789012\n",
      "Roll Number: 21, Name: New Student, Gender: M, Date of Birth: 2003-05-01, Email: new.student@example.com, Aadhar: 303456789012\n"
     ]
    }
   ],
   "source": [
    "print(\"\\nRemoving a student with RollNumber 15:\")\n",
    "remove_student('15')\n",
    "print_students()"
   ]
  },
  {
   "cell_type": "code",
   "execution_count": 10,
   "metadata": {},
   "outputs": [
    {
     "name": "stdout",
     "output_type": "stream",
     "text": [
      "\n",
      "Updating a student with RollNumber 2:\n",
      "Roll Number: 1, Name: John Doe, Gender: M, Date of Birth: 2000-01-15, Email: john.doe@example.com, Aadhar: 123456789012\n",
      "Roll Number: 2, Name: Jane Smith, Gender: F, Date of Birth: 2001-02-18, Email: jane.smith@example.com, Aadhar: 909876543210\n",
      "Roll Number: 3, Name: Jim Brown, Gender: M, Date of Birth: 1999-05-22, Email: jim.brown@example.com, Aadhar: 345678901234\n",
      "Roll Number: 4, Name: Jessica Jones, Gender: F, Date of Birth: 2000-07-13, Email: jessica.jones@example.com, Aadhar: 456789012345\n",
      "Roll Number: 5, Name: Jack White, Gender: M, Date of Birth: 1998-11-23, Email: jack.white@example.com, Aadhar: 567890123456\n",
      "Roll Number: 6, Name: Jennifer Black, Gender: F, Date of Birth: 2001-03-30, Email: jennifer.black@example.com, Aadhar: 678901234567\n",
      "Roll Number: 7, Name: Jacob Green, Gender: M, Date of Birth: 2002-06-01, Email: jacob.green@example.com, Aadhar: 789012345678\n",
      "Roll Number: 8, Name: Julia Blue, Gender: F, Date of Birth: 2000-12-12, Email: julia.blue@example.com, Aadhar: 890123456789\n",
      "Roll Number: 9, Name: James Yellow, Gender: M, Date of Birth: 1999-04-19, Email: james.yellow@example.com, Aadhar: 901234567890\n",
      "Roll Number: 10, Name: Joan Purple, Gender: F, Date of Birth: 2001-05-25, Email: joan.purple@example.com, Aadhar: 112345678901\n",
      "Roll Number: 11, Name: Jeremy Red, Gender: M, Date of Birth: 2002-07-14, Email: jeremy.red@example.com, Aadhar: 223456789012\n",
      "Roll Number: 12, Name: Jill Orange, Gender: F, Date of Birth: 1998-10-30, Email: jill.orange@example.com, Aadhar: 334567890123\n",
      "Roll Number: 13, Name: Jasper Pink, Gender: M, Date of Birth: 1999-08-09, Email: jasper.pink@example.com, Aadhar: 445678901234\n",
      "Roll Number: 14, Name: Janet Gray, Gender: F, Date of Birth: 2000-09-03, Email: janet.gray@example.com, Aadhar: 556789012345\n",
      "Roll Number: 16, Name: Josie White, Gender: F, Date of Birth: 2002-02-20, Email: josie.white@example.com, Aadhar: 778901234567\n",
      "Roll Number: 17, Name: Jason Black, Gender: M, Date of Birth: 2000-03-15, Email: jason.black@example.com, Aadhar: 889012345678\n",
      "Roll Number: 18, Name: Julie Green, Gender: F, Date of Birth: 1999-06-24, Email: julie.green@example.com, Aadhar: 990123456789\n",
      "Roll Number: 19, Name: Jeff Blue, Gender: M, Date of Birth: 1998-12-11, Email: jeff.blue@example.com, Aadhar: 101234567890\n",
      "Roll Number: 20, Name: June Yellow, Gender: F, Date of Birth: 2001-04-22, Email: june.yellow@example.com, Aadhar: 202345678901\n",
      "Roll Number: 21, Name: New Student, Gender: M, Date of Birth: 2003-05-01, Email: new.student@example.com, Aadhar: 303456789012\n",
      "Roll Number: 21, Name: New Student, Gender: M, Date of Birth: 2003-05-01, Email: new.student@example.com, Aadhar: 303456789012\n",
      "Roll Number: 21, Name: New Student, Gender: M, Date of Birth: 2003-05-01, Email: new.student@example.com, Aadhar: 303456789012\n"
     ]
    }
   ],
   "source": [
    "print(\"\\nUpdating a student with RollNumber 2:\")\n",
    "update_student('2', aadhar='909876543210')\n",
    "print_students()"
   ]
  }
 ],
 "metadata": {
  "kernelspec": {
   "display_name": "Python 3",
   "language": "python",
   "name": "python3"
  },
  "language_info": {
   "codemirror_mode": {
    "name": "ipython",
    "version": 3
   },
   "file_extension": ".py",
   "mimetype": "text/x-python",
   "name": "python",
   "nbconvert_exporter": "python",
   "pygments_lexer": "ipython3",
   "version": "3.12.0"
  }
 },
 "nbformat": 4,
 "nbformat_minor": 2
}
