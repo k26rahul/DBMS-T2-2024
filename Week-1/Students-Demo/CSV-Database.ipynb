{
 "cells": [
  {
   "cell_type": "markdown",
   "metadata": {},
   "source": [
    "> *In early days, database applications were built directly on top of file systems*"
   ]
  },
  {
   "cell_type": "code",
   "execution_count": 29,
   "metadata": {},
   "outputs": [],
   "source": [
    "import csv\n",
    "CSV_FILE = './Data/students.csv'"
   ]
  },
  {
   "cell_type": "code",
   "execution_count": 30,
   "metadata": {},
   "outputs": [],
   "source": [
    "def read_students():\n",
    "  students = []\n",
    "  with open(CSV_FILE, mode='r') as file:\n",
    "    reader = csv.DictReader(file)\n",
    "    for row in reader:\n",
    "      students.append(row)\n",
    "  return students\n",
    "\n",
    "\n",
    "def write_students(students):\n",
    "  fieldnames = ['RollNumber', 'Name', 'Gender', 'DateOfBirth', 'Email', 'Aadhar']\n",
    "  with open(CSV_FILE, mode='w', newline='') as file:\n",
    "    writer = csv.DictWriter(file, fieldnames=fieldnames)\n",
    "    writer.writeheader()\n",
    "    writer.writerows(students)\n",
    "\n",
    "\n",
    "def print_students():\n",
    "  students = read_students()\n",
    "  for student in students:\n",
    "    print(f\"# {student['RollNumber']}, \"\n",
    "          f\"Name: {student['Name']}, \"\n",
    "          f\"Gender: {student['Gender']}, \"\n",
    "          f\"DOB: {student['DateOfBirth']}, \"\n",
    "          f\"Email: {student['Email']}, \"\n",
    "          f\"Aadhar: {student['Aadhar']}\")"
   ]
  },
  {
   "cell_type": "code",
   "execution_count": 31,
   "metadata": {},
   "outputs": [
    {
     "name": "stdout",
     "output_type": "stream",
     "text": [
      "# 1, Name: John Doe, Gender: M, DOB: 2000-01-15, Email: john.doe@example.com, Aadhar: 123456789012\n",
      "# 2, Name: Jane Smith, Gender: F, DOB: 2001-02-18, Email: jane.smith@example.com, Aadhar: 909876543210\n",
      "# 3, Name: Jim Brown, Gender: M, DOB: 1999-05-22, Email: jim.brown@example.com, Aadhar: 345678901234\n",
      "# 4, Name: Jessica Jones, Gender: F, DOB: 2000-07-13, Email: jessica.jones@example.com, Aadhar: 456789012345\n",
      "# 5, Name: Jack White, Gender: M, DOB: 1998-11-23, Email: jack.white@example.com, Aadhar: 567890123456\n",
      "# 6, Name: Jennifer Black, Gender: F, DOB: 2001-03-30, Email: jennifer.black@example.com, Aadhar: 678901234567\n",
      "# 7, Name: Jacob Green, Gender: M, DOB: 2002-06-01, Email: jacob.green@example.com, Aadhar: 789012345678\n",
      "# 8, Name: Julia Blue, Gender: F, DOB: 2000-12-12, Email: julia.blue@example.com, Aadhar: 890123456789\n",
      "# 9, Name: James Yellow, Gender: M, DOB: 1999-04-19, Email: james.yellow@example.com, Aadhar: 901234567890\n",
      "# 10, Name: Joan Purple, Gender: F, DOB: 2001-05-25, Email: joan.purple@example.com, Aadhar: 112345678901\n",
      "# 11, Name: Jeremy Red, Gender: M, DOB: 2002-07-14, Email: jeremy.red@example.com, Aadhar: 223456789012\n",
      "# 12, Name: Jill Orange, Gender: F, DOB: 1998-10-30, Email: jill.orange@example.com, Aadhar: 334567890123\n",
      "# 13, Name: Jasper Pink, Gender: M, DOB: 1999-08-09, Email: jasper.pink@example.com, Aadhar: 445678901234\n",
      "# 14, Name: Janet Gray, Gender: F, DOB: 2000-09-03, Email: janet.gray@example.com, Aadhar: 556789012345\n",
      "# 16, Name: Josie White, Gender: F, DOB: 2002-02-20, Email: josie.white@example.com, Aadhar: 778901234567\n",
      "# 17, Name: Jason Black, Gender: M, DOB: 2000-03-15, Email: jason.black@example.com, Aadhar: 889012345678\n",
      "# 18, Name: Julie Green, Gender: F, DOB: 1999-06-24, Email: julie.green@example.com, Aadhar: 990123456789\n",
      "# 19, Name: Jeff Blue, Gender: M, DOB: 1998-12-11, Email: jeff.blue@example.com, Aadhar: 101234567890\n",
      "# 20, Name: June Yellow, Gender: F, DOB: 2001-04-22, Email: june.yellow@example.com, Aadhar: 202345678901\n"
     ]
    }
   ],
   "source": [
    "print_students()"
   ]
  },
  {
   "cell_type": "code",
   "execution_count": 32,
   "metadata": {},
   "outputs": [],
   "source": [
    "def add_student(roll_number, name, gender, dob, email, aadhar):\n",
    "  students = read_students()\n",
    "  new_student = {\n",
    "      'RollNumber': roll_number,\n",
    "      'Name': name,\n",
    "      'Gender': gender,\n",
    "      'DateOfBirth': dob,\n",
    "      'Email': email,\n",
    "      'Aadhar': aadhar\n",
    "  }\n",
    "  students.append(new_student)\n",
    "  write_students(students)"
   ]
  },
  {
   "cell_type": "code",
   "execution_count": 33,
   "metadata": {},
   "outputs": [],
   "source": [
    "def remove_student(roll_number):\n",
    "  students = read_students()\n",
    "  students = [student for student in students if student['RollNumber'] != roll_number]\n",
    "  write_students(students)"
   ]
  },
  {
   "cell_type": "code",
   "execution_count": 34,
   "metadata": {},
   "outputs": [],
   "source": [
    "def update_student(roll_number, name=None, gender=None, dob=None, email=None, aadhar=None):\n",
    "  students = read_students()\n",
    "  for student in students:\n",
    "    if student['RollNumber'] == roll_number:\n",
    "      if name is not None:\n",
    "        student['Name'] = name\n",
    "      if gender is not None:\n",
    "        student['Gender'] = gender\n",
    "      if dob is not None:\n",
    "        student['DateOfBirth'] = dob\n",
    "      if email is not None:\n",
    "        student['Email'] = email\n",
    "      if aadhar is not None:\n",
    "        student['Aadhar'] = aadhar\n",
    "  write_students(students)"
   ]
  },
  {
   "cell_type": "code",
   "execution_count": 35,
   "metadata": {},
   "outputs": [
    {
     "name": "stdout",
     "output_type": "stream",
     "text": [
      "\n",
      "Adding a new student:\n",
      "# 1, Name: John Doe, Gender: M, DOB: 2000-01-15, Email: john.doe@example.com, Aadhar: 123456789012\n",
      "# 2, Name: Jane Smith, Gender: F, DOB: 2001-02-18, Email: jane.smith@example.com, Aadhar: 909876543210\n",
      "# 3, Name: Jim Brown, Gender: M, DOB: 1999-05-22, Email: jim.brown@example.com, Aadhar: 345678901234\n",
      "# 4, Name: Jessica Jones, Gender: F, DOB: 2000-07-13, Email: jessica.jones@example.com, Aadhar: 456789012345\n",
      "# 5, Name: Jack White, Gender: M, DOB: 1998-11-23, Email: jack.white@example.com, Aadhar: 567890123456\n",
      "# 6, Name: Jennifer Black, Gender: F, DOB: 2001-03-30, Email: jennifer.black@example.com, Aadhar: 678901234567\n",
      "# 7, Name: Jacob Green, Gender: M, DOB: 2002-06-01, Email: jacob.green@example.com, Aadhar: 789012345678\n",
      "# 8, Name: Julia Blue, Gender: F, DOB: 2000-12-12, Email: julia.blue@example.com, Aadhar: 890123456789\n",
      "# 9, Name: James Yellow, Gender: M, DOB: 1999-04-19, Email: james.yellow@example.com, Aadhar: 901234567890\n",
      "# 10, Name: Joan Purple, Gender: F, DOB: 2001-05-25, Email: joan.purple@example.com, Aadhar: 112345678901\n",
      "# 11, Name: Jeremy Red, Gender: M, DOB: 2002-07-14, Email: jeremy.red@example.com, Aadhar: 223456789012\n",
      "# 12, Name: Jill Orange, Gender: F, DOB: 1998-10-30, Email: jill.orange@example.com, Aadhar: 334567890123\n",
      "# 13, Name: Jasper Pink, Gender: M, DOB: 1999-08-09, Email: jasper.pink@example.com, Aadhar: 445678901234\n",
      "# 14, Name: Janet Gray, Gender: F, DOB: 2000-09-03, Email: janet.gray@example.com, Aadhar: 556789012345\n",
      "# 16, Name: Josie White, Gender: F, DOB: 2002-02-20, Email: josie.white@example.com, Aadhar: 778901234567\n",
      "# 17, Name: Jason Black, Gender: M, DOB: 2000-03-15, Email: jason.black@example.com, Aadhar: 889012345678\n",
      "# 18, Name: Julie Green, Gender: F, DOB: 1999-06-24, Email: julie.green@example.com, Aadhar: 990123456789\n",
      "# 19, Name: Jeff Blue, Gender: M, DOB: 1998-12-11, Email: jeff.blue@example.com, Aadhar: 101234567890\n",
      "# 20, Name: June Yellow, Gender: F, DOB: 2001-04-22, Email: june.yellow@example.com, Aadhar: 202345678901\n",
      "# 21, Name: New Student, Gender: M, DOB: 2003-05-01, Email: new.student@example.com, Aadhar: 303456789012\n"
     ]
    }
   ],
   "source": [
    "print(\"\\nAdding a new student:\")\n",
    "add_student('21', 'New Student', 'M', '2003-05-01', 'new.student@example.com', '303456789012')\n",
    "print_students()"
   ]
  },
  {
   "cell_type": "code",
   "execution_count": 36,
   "metadata": {},
   "outputs": [
    {
     "name": "stdout",
     "output_type": "stream",
     "text": [
      "\n",
      "Removing a student with RollNumber 15:\n",
      "# 1, Name: John Doe, Gender: M, DOB: 2000-01-15, Email: john.doe@example.com, Aadhar: 123456789012\n",
      "# 2, Name: Jane Smith, Gender: F, DOB: 2001-02-18, Email: jane.smith@example.com, Aadhar: 909876543210\n",
      "# 3, Name: Jim Brown, Gender: M, DOB: 1999-05-22, Email: jim.brown@example.com, Aadhar: 345678901234\n",
      "# 4, Name: Jessica Jones, Gender: F, DOB: 2000-07-13, Email: jessica.jones@example.com, Aadhar: 456789012345\n",
      "# 5, Name: Jack White, Gender: M, DOB: 1998-11-23, Email: jack.white@example.com, Aadhar: 567890123456\n",
      "# 6, Name: Jennifer Black, Gender: F, DOB: 2001-03-30, Email: jennifer.black@example.com, Aadhar: 678901234567\n",
      "# 7, Name: Jacob Green, Gender: M, DOB: 2002-06-01, Email: jacob.green@example.com, Aadhar: 789012345678\n",
      "# 8, Name: Julia Blue, Gender: F, DOB: 2000-12-12, Email: julia.blue@example.com, Aadhar: 890123456789\n",
      "# 9, Name: James Yellow, Gender: M, DOB: 1999-04-19, Email: james.yellow@example.com, Aadhar: 901234567890\n",
      "# 10, Name: Joan Purple, Gender: F, DOB: 2001-05-25, Email: joan.purple@example.com, Aadhar: 112345678901\n",
      "# 11, Name: Jeremy Red, Gender: M, DOB: 2002-07-14, Email: jeremy.red@example.com, Aadhar: 223456789012\n",
      "# 12, Name: Jill Orange, Gender: F, DOB: 1998-10-30, Email: jill.orange@example.com, Aadhar: 334567890123\n",
      "# 13, Name: Jasper Pink, Gender: M, DOB: 1999-08-09, Email: jasper.pink@example.com, Aadhar: 445678901234\n",
      "# 14, Name: Janet Gray, Gender: F, DOB: 2000-09-03, Email: janet.gray@example.com, Aadhar: 556789012345\n",
      "# 16, Name: Josie White, Gender: F, DOB: 2002-02-20, Email: josie.white@example.com, Aadhar: 778901234567\n",
      "# 17, Name: Jason Black, Gender: M, DOB: 2000-03-15, Email: jason.black@example.com, Aadhar: 889012345678\n",
      "# 18, Name: Julie Green, Gender: F, DOB: 1999-06-24, Email: julie.green@example.com, Aadhar: 990123456789\n",
      "# 19, Name: Jeff Blue, Gender: M, DOB: 1998-12-11, Email: jeff.blue@example.com, Aadhar: 101234567890\n",
      "# 20, Name: June Yellow, Gender: F, DOB: 2001-04-22, Email: june.yellow@example.com, Aadhar: 202345678901\n",
      "# 21, Name: New Student, Gender: M, DOB: 2003-05-01, Email: new.student@example.com, Aadhar: 303456789012\n"
     ]
    }
   ],
   "source": [
    "print(\"\\nRemoving a student with RollNumber 15:\")\n",
    "remove_student('15')\n",
    "print_students()"
   ]
  },
  {
   "cell_type": "code",
   "execution_count": 37,
   "metadata": {},
   "outputs": [
    {
     "name": "stdout",
     "output_type": "stream",
     "text": [
      "\n",
      "Updating a student with RollNumber 2:\n",
      "# 1, Name: John Doe, Gender: M, DOB: 2000-01-15, Email: john.doe@example.com, Aadhar: 123456789012\n",
      "# 2, Name: Jane Smith, Gender: F, DOB: 2001-02-18, Email: jane.smith@example.com, Aadhar: 909876543210\n",
      "# 3, Name: Jim Brown, Gender: M, DOB: 1999-05-22, Email: jim.brown@example.com, Aadhar: 345678901234\n",
      "# 4, Name: Jessica Jones, Gender: F, DOB: 2000-07-13, Email: jessica.jones@example.com, Aadhar: 456789012345\n",
      "# 5, Name: Jack White, Gender: M, DOB: 1998-11-23, Email: jack.white@example.com, Aadhar: 567890123456\n",
      "# 6, Name: Jennifer Black, Gender: F, DOB: 2001-03-30, Email: jennifer.black@example.com, Aadhar: 678901234567\n",
      "# 7, Name: Jacob Green, Gender: M, DOB: 2002-06-01, Email: jacob.green@example.com, Aadhar: 789012345678\n",
      "# 8, Name: Julia Blue, Gender: F, DOB: 2000-12-12, Email: julia.blue@example.com, Aadhar: 890123456789\n",
      "# 9, Name: James Yellow, Gender: M, DOB: 1999-04-19, Email: james.yellow@example.com, Aadhar: 901234567890\n",
      "# 10, Name: Joan Purple, Gender: F, DOB: 2001-05-25, Email: joan.purple@example.com, Aadhar: 112345678901\n",
      "# 11, Name: Jeremy Red, Gender: M, DOB: 2002-07-14, Email: jeremy.red@example.com, Aadhar: 223456789012\n",
      "# 12, Name: Jill Orange, Gender: F, DOB: 1998-10-30, Email: jill.orange@example.com, Aadhar: 334567890123\n",
      "# 13, Name: Jasper Pink, Gender: M, DOB: 1999-08-09, Email: jasper.pink@example.com, Aadhar: 445678901234\n",
      "# 14, Name: Janet Gray, Gender: F, DOB: 2000-09-03, Email: janet.gray@example.com, Aadhar: 556789012345\n",
      "# 16, Name: Josie White, Gender: F, DOB: 2002-02-20, Email: josie.white@example.com, Aadhar: 778901234567\n",
      "# 17, Name: Jason Black, Gender: M, DOB: 2000-03-15, Email: jason.black@example.com, Aadhar: 889012345678\n",
      "# 18, Name: Julie Green, Gender: F, DOB: 1999-06-24, Email: julie.green@example.com, Aadhar: 990123456789\n",
      "# 19, Name: Jeff Blue, Gender: M, DOB: 1998-12-11, Email: jeff.blue@example.com, Aadhar: 101234567890\n",
      "# 20, Name: June Yellow, Gender: F, DOB: 2001-04-22, Email: june.yellow@example.com, Aadhar: 202345678901\n",
      "# 21, Name: New Student, Gender: M, DOB: 2003-05-01, Email: new.student@example.com, Aadhar: 303456789012\n"
     ]
    }
   ],
   "source": [
    "print(\"\\nUpdating a student with RollNumber 2:\")\n",
    "update_student('2', aadhar='909876543210')\n",
    "print_students()"
   ]
  }
 ],
 "metadata": {
  "kernelspec": {
   "display_name": "Python 3",
   "language": "python",
   "name": "python3"
  },
  "language_info": {
   "codemirror_mode": {
    "name": "ipython",
    "version": 3
   },
   "file_extension": ".py",
   "mimetype": "text/x-python",
   "name": "python",
   "nbconvert_exporter": "python",
   "pygments_lexer": "ipython3",
   "version": "3.12.0"
  }
 },
 "nbformat": 4,
 "nbformat_minor": 2
}
