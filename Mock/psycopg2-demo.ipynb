{
 "cells": [
  {
   "cell_type": "markdown",
   "metadata": {},
   "source": [
    "# Mock 1"
   ]
  },
  {
   "cell_type": "code",
   "execution_count": 103,
   "metadata": {},
   "outputs": [],
   "source": [
    "import os\n",
    "import sys\n",
    "import psycopg2"
   ]
  },
  {
   "cell_type": "code",
   "execution_count": 104,
   "metadata": {},
   "outputs": [
    {
     "data": {
      "text/plain": [
       "True"
      ]
     },
     "execution_count": 104,
     "metadata": {},
     "output_type": "execute_result"
    }
   ],
   "source": [
    "from dotenv import load_dotenv  # test\n",
    "load_dotenv()  # test\n",
    "sys.argv[1] = 'lis'  # test"
   ]
  },
  {
   "cell_type": "code",
   "execution_count": 105,
   "metadata": {},
   "outputs": [],
   "source": [
    "dbname = sys.argv[1]\n",
    "user = os.environ.get('PGUSER')\n",
    "password = os.environ.get('PGPASSWORD')\n",
    "host = os.environ.get('PGHOST')\n",
    "port = os.environ.get('PGPORT')"
   ]
  },
  {
   "cell_type": "code",
   "execution_count": 106,
   "metadata": {},
   "outputs": [],
   "source": [
    "connection = psycopg2.connect(dbname=dbname,\n",
    "                              user=user,\n",
    "                              password=password,\n",
    "                              host=host,\n",
    "                              port=port)\n",
    "cursor = connection.cursor()"
   ]
  },
  {
   "cell_type": "code",
   "execution_count": 120,
   "metadata": {},
   "outputs": [],
   "source": [
    "file = open('number.txt')\n",
    "x = file.read()\n",
    "x = int(x)\n",
    "year = 2000 + 5*x"
   ]
  },
  {
   "cell_type": "code",
   "execution_count": 108,
   "metadata": {},
   "outputs": [],
   "source": [
    "query = f'SELECT * FROM book_catalogue WHERE year = {year}'\n",
    "cursor.execute(query)\n",
    "result = cursor.fetchall()"
   ]
  },
  {
   "cell_type": "code",
   "execution_count": 109,
   "metadata": {},
   "outputs": [
    {
     "name": "stdout",
     "output_type": "stream",
     "text": [
      "Showing result for: query='SELECT * FROM book_catalogue WHERE year = 2015'\n",
      "9789351197584\n",
      "9789332549449\n",
      "9789351198147\n",
      "9780984782864\n",
      "9789332543553\n"
     ]
    }
   ],
   "source": [
    "print(f'Showing result for: {query=}')\n",
    "\n",
    "for row in result:\n",
    "  print(row[0])"
   ]
  },
  {
   "cell_type": "markdown",
   "metadata": {},
   "source": [
    "# Mock 2"
   ]
  },
  {
   "cell_type": "code",
   "execution_count": 110,
   "metadata": {},
   "outputs": [],
   "source": [
    "import os\n",
    "import sys\n",
    "import psycopg2"
   ]
  },
  {
   "cell_type": "code",
   "execution_count": 111,
   "metadata": {},
   "outputs": [
    {
     "data": {
      "text/plain": [
       "True"
      ]
     },
     "execution_count": 111,
     "metadata": {},
     "output_type": "execute_result"
    }
   ],
   "source": [
    "from dotenv import load_dotenv  # test\n",
    "load_dotenv()  # test\n",
    "sys.argv[1] = 'flis'  # test"
   ]
  },
  {
   "cell_type": "code",
   "execution_count": 112,
   "metadata": {},
   "outputs": [],
   "source": [
    "dbname = sys.argv[1]\n",
    "user = os.environ.get('PGUSER')\n",
    "password = os.environ.get('PGPASSWORD')\n",
    "host = os.environ.get('PGHOST')\n",
    "port = os.environ.get('PGPORT')"
   ]
  },
  {
   "cell_type": "code",
   "execution_count": 113,
   "metadata": {},
   "outputs": [],
   "source": [
    "connection = psycopg2.connect(dbname=dbname,\n",
    "                              user=user,\n",
    "                              password=password,\n",
    "                              host=host,\n",
    "                              port=port)\n",
    "cursor = connection.cursor()"
   ]
  },
  {
   "cell_type": "code",
   "execution_count": 114,
   "metadata": {},
   "outputs": [],
   "source": [
    "file = open('date.txt')\n",
    "year = file.read()"
   ]
  },
  {
   "cell_type": "code",
   "execution_count": 115,
   "metadata": {},
   "outputs": [],
   "source": [
    "# autopep8: off\n",
    "\n",
    "query = f\"SELECT name FROM matches INNER JOIN match_referees USING(match_num) INNER JOIN referees ON match_referees.referee = referees.referee_id WHERE match_date = '{year}';\"\n",
    "cursor.execute(query)\n",
    "result = cursor.fetchall()"
   ]
  },
  {
   "cell_type": "code",
   "execution_count": 118,
   "metadata": {},
   "outputs": [
    {
     "data": {
      "text/plain": [
       "'Sarkar A. K.'"
      ]
     },
     "execution_count": 118,
     "metadata": {},
     "output_type": "execute_result"
    }
   ],
   "source": [
    "def format_name(name):\n",
    "  new_name = ''\n",
    "  data = name.split()\n",
    "  new_name += data[-1]  # last name\n",
    "  new_name += f' {data[0][0]}.'  # first name\n",
    "\n",
    "  if len(data) == 3:  # middle exists\n",
    "    new_name += f' {data[1][0]}.'\n",
    "\n",
    "  return new_name\n",
    "\n",
    "\n",
    "# last first middle\n",
    "format_name('Asit Kumar Sarkar')  # Sarkar A. K."
   ]
  },
  {
   "cell_type": "code",
   "execution_count": 119,
   "metadata": {},
   "outputs": [
    {
     "name": "stdout",
     "output_type": "stream",
     "text": [
      "Louis T. J.\n"
     ]
    }
   ],
   "source": [
    "for row in result:\n",
    "  new_name = format_name(row[0])\n",
    "  print(new_name)"
   ]
  }
 ],
 "metadata": {
  "kernelspec": {
   "display_name": "Python 3",
   "language": "python",
   "name": "python3"
  },
  "language_info": {
   "codemirror_mode": {
    "name": "ipython",
    "version": 3
   },
   "file_extension": ".py",
   "mimetype": "text/x-python",
   "name": "python",
   "nbconvert_exporter": "python",
   "pygments_lexer": "ipython3",
   "version": "3.10.11"
  }
 },
 "nbformat": 4,
 "nbformat_minor": 2
}
